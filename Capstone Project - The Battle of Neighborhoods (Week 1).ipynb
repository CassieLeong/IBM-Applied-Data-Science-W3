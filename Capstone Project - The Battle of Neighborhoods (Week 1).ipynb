{
 "cells": [
  {
   "cell_type": "markdown",
   "metadata": {},
   "source": [
    "## For this week, you will required to submit the following:\n",
    "\n",
    "A description of the problem and a discussion of the background. (15 marks)<br>\n",
    "A description of the data and how it will be used to solve the problem. (15 marks)"
   ]
  },
  {
   "cell_type": "markdown",
   "metadata": {},
   "source": [
    "## Problem Statement"
   ]
  },
  {
   "cell_type": "markdown",
   "metadata": {},
   "source": [
    "I like to build a restaurant in the Centre Business District (CBD) of Sydney. Barangaroo Ave is a vibrant place and it is a new district that is not more than 3 years of operates. Barangaroo is Australia's premier commercial hub for the Asia Pacific region, offering scale and quality on par with the world’s best office precincts and located on our world famous Sydney Harbour. It is designed to house approximately 23,000 office workers and some of Sydney’s best retailers and restaurants, Barangaroo is now open for business.\n",
    "\n",
    "To open a restaurant is not easy, yet competitive, especially in Barangaroo. Hence, it is critical to pick the right choice of restaurant to opened in Barangaroo. I also like to open the restaurant within 10 miles radius of the center of Barangaroo because there is most of the movement of human and transport. "
   ]
  },
  {
   "cell_type": "markdown",
   "metadata": {},
   "source": [
    "## Data Requirement"
   ]
  },
  {
   "cell_type": "markdown",
   "metadata": {},
   "source": [
    "1. Location data \n",
    "2. Restaurant Categories\n",
    "3. Restaurant Likes & Counts\n",
    "4. Details of the restaurant (stats, price, menu, hour, rating...) \n",
    "\n"
   ]
  },
  {
   "cell_type": "markdown",
   "metadata": {},
   "source": [
    "Above data will help me to make the right choice of the type of restaurant to opened in Barangaroo Ave and the data from Foursquare will have enough of data for me to analyze the existing restaurant data. "
   ]
  }
 ],
 "metadata": {
  "kernelspec": {
   "display_name": "Python 3",
   "language": "python",
   "name": "python3"
  },
  "language_info": {
   "codemirror_mode": {
    "name": "ipython",
    "version": 3
   },
   "file_extension": ".py",
   "mimetype": "text/x-python",
   "name": "python",
   "nbconvert_exporter": "python",
   "pygments_lexer": "ipython3",
   "version": "3.7.4"
  }
 },
 "nbformat": 4,
 "nbformat_minor": 2
}
